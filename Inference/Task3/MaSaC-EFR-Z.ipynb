{
 "cells": [
  {
   "cell_type": "code",
   "execution_count": null,
   "metadata": {},
   "outputs": [],
   "source": [
    "#Install the required libraries!\n",
    "%pip install -q -U trl numpy torch peft transformers  datasets bitsandbytes wandb"
   ]
  },
  {
   "cell_type": "code",
   "execution_count": null,
   "metadata": {},
   "outputs": [],
   "source": [
    "#Importing required librbries\n",
    "import logging\n",
    "import pandas as pd\n",
    "from scipy.special import softmax\n",
    "import numpy as np\n",
    "import torch\n",
    "from datasets import load_dataset\n",
    "from transformers import set_seed, TrainingArguments, Trainer, DataCollatorWithPadding, AutoTokenizer, AutoModelForSequenceClassification, BitsAndBytesConfig, LlamaTokenizerFast\n",
    "from peft import LoraConfig, get_peft_model"
   ]
  },
  {
   "cell_type": "code",
   "execution_count": 2,
   "metadata": {},
   "outputs": [
    {
     "data": {
      "text/html": [
       "<div>\n",
       "<style scoped>\n",
       "    .dataframe tbody tr th:only-of-type {\n",
       "        vertical-align: middle;\n",
       "    }\n",
       "\n",
       "    .dataframe tbody tr th {\n",
       "        vertical-align: top;\n",
       "    }\n",
       "\n",
       "    .dataframe thead th {\n",
       "        text-align: right;\n",
       "    }\n",
       "</style>\n",
       "<table border=\"1\" class=\"dataframe\">\n",
       "  <thead>\n",
       "    <tr style=\"text-align: right;\">\n",
       "      <th></th>\n",
       "      <th>text</th>\n",
       "    </tr>\n",
       "  </thead>\n",
       "  <tbody>\n",
       "    <tr>\n",
       "      <th>0</th>\n",
       "      <td>&lt;|system|&gt;In your role as an expert in sentime...</td>\n",
       "    </tr>\n",
       "    <tr>\n",
       "      <th>1</th>\n",
       "      <td>&lt;|system|&gt;In your role as an expert in sentime...</td>\n",
       "    </tr>\n",
       "    <tr>\n",
       "      <th>2</th>\n",
       "      <td>&lt;|system|&gt;In your role as an expert in sentime...</td>\n",
       "    </tr>\n",
       "    <tr>\n",
       "      <th>3</th>\n",
       "      <td>&lt;|system|&gt;In your role as an expert in sentime...</td>\n",
       "    </tr>\n",
       "    <tr>\n",
       "      <th>4</th>\n",
       "      <td>&lt;|system|&gt;In your role as an expert in sentime...</td>\n",
       "    </tr>\n",
       "  </tbody>\n",
       "</table>\n",
       "</div>"
      ],
      "text/plain": [
       "                                                text\n",
       "0  <|system|>In your role as an expert in sentime...\n",
       "1  <|system|>In your role as an expert in sentime...\n",
       "2  <|system|>In your role as an expert in sentime...\n",
       "3  <|system|>In your role as an expert in sentime...\n",
       "4  <|system|>In your role as an expert in sentime..."
      ]
     },
     "execution_count": 2,
     "metadata": {},
     "output_type": "execute_result"
    }
   ],
   "source": [
    "#This will create a csv file\n",
    "from get_prompt import pipelined_process\n",
    "processed_data = pipelined_process('MELD_test_efr.json')\n",
    "processed_test_data_path = 'test_zds_t3.csv'\n",
    "processed_data.to_csv(processed_test_data_path, index=False)\n",
    "processed_data.head()"
   ]
  },
  {
   "cell_type": "code",
   "execution_count": null,
   "metadata": {},
   "outputs": [],
   "source": [
    "#Keep the config same as below, so we dont encounter any configuration mismatch errors\n",
    "token='YOUR_HF_API_TOKEN'\n",
    "Model_Z = \"zuhashaik/MELD-EFR-Z\"\n",
    "\n",
    "#Mention the bnb quantization configuraion for the tuned_model\n",
    "bnb_config = BitsAndBytesConfig(\n",
    "    load_in_4bit = True,\n",
    "    bnb_4bit_qunat_type = \"nf4\",\n",
    "    bnb_4bit_compute_dtype = torch.float16,\n",
    ")\n",
    "\n",
    "#Tokenizer for the Model_Z\n",
    "tokenizer = AutoTokenizer.from_pretrained(Model_Z, token=token)\n",
    "tokenizer.pad_token = tokenizer.bos_token\n",
    "\n",
    "#Downloading Model_Z\n",
    "model = AutoModelForSequenceClassification.from_pretrained(\n",
    "    Model_Z,\n",
    "    num_labels=2,\n",
    "    quantization_config=bnb_config,\n",
    "    device_map=\"auto\",\n",
    "    trust_remote_code=True,\n",
    "    token=token\n",
    "    )\n",
    "model.config.pad_token_id = tokenizer.pad_token_id"
   ]
  },
  {
   "cell_type": "code",
   "execution_count": null,
   "metadata": {},
   "outputs": [],
   "source": [
    "#Load the dataset\n",
    "dataset = load_dataset('csv', data_files={'test': [processed_test_data_path]})\n",
    "\n",
    "#Let inputs for model_z be tokenized\n",
    "def tokenize(examples):\n",
    "        return tokenizer(examples[\"text\"], truncation=True)\n",
    "\n",
    "test_dataset = dataset['test'].map(tokenize, batched=True)"
   ]
  },
  {
   "cell_type": "code",
   "execution_count": null,
   "metadata": {},
   "outputs": [],
   "source": [
    "import time\n",
    "from tqdm import tqdm\n",
    "predicted = []\n",
    "\n",
    "for text in tqdm(test_dataset['text']):\n",
    "    # Tokenize the text and create a batch with a single data point\n",
    "    tokenized = tokenizer(text, return_tensors=\"pt\", padding=True, truncation=True)\n",
    "\n",
    "    # Perform inference on the single data point\n",
    "    output = model(**tokenized)\n",
    "    logits = output.logits\n",
    "    logits = logits.float()\n",
    "\n",
    "    # Calculate class probabilities\n",
    "    class_probabilities = torch.nn.functional.softmax(logits, dim=1)\n",
    "\n",
    "    predicted.append(class_probabilities)\n",
    "concatenated_tensor = torch.cat(predicted)\n",
    "predicted = concatenated_tensor.detach().cpu().numpy()\n",
    "predicted.shape"
   ]
  },
  {
   "cell_type": "code",
   "execution_count": null,
   "metadata": {},
   "outputs": [],
   "source": [
    "probabilities = softmax(predicted, axis=1)  # Softmax to convert logits to probabilities    \n",
    "thresholded_predictions = np.argmax(probabilities, axis=1)\n",
    "df = pd.DataFrame(\n",
    "    {'predicted_labels':thresholded_predictions}\n",
    ")\n",
    "df.head()"
   ]
  }
 ],
 "metadata": {
  "kernelspec": {
   "display_name": "Python 3",
   "language": "python",
   "name": "python3"
  },
  "language_info": {
   "codemirror_mode": {
    "name": "ipython",
    "version": 3
   },
   "file_extension": ".py",
   "mimetype": "text/x-python",
   "name": "python",
   "nbconvert_exporter": "python",
   "pygments_lexer": "ipython3",
   "version": "3.10.12"
  },
  "orig_nbformat": 4
 },
 "nbformat": 4,
 "nbformat_minor": 2
}
